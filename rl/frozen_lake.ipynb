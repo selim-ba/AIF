{
  "cells": [
    {
      "cell_type": "markdown",
      "metadata": {
        "id": "ihjZFBn0aUcc"
      },
      "source": [
        "# Practical Session: Reinforcement Learning"
      ]
    },
    {
      "cell_type": "markdown",
      "metadata": {
        "id": "aLxKI8y2aUce"
      },
      "source": [
        "In this practical session, you will implement the [Value iteration and Policy iteration algorithms](https://www.ics.uci.edu/~dechter/publications/r42a-mdp_report.pdf) algorithm and test it in a reinforcement learning toy environment."
      ]
    },
    {
      "cell_type": "markdown",
      "metadata": {
        "id": "k-JlJfDxaUcf"
      },
      "source": [
        "# OpenAI Gym"
      ]
    },
    {
      "cell_type": "markdown",
      "metadata": {
        "id": "xv8gGD0AaUcf"
      },
      "source": [
        "The [Gym library](https://www.google.com/search?client=firefox-b-d&q=openai+gym)  is a collection of test problems (or environments) developed by [OpenAI](https://openai.com/) sharing a standard interface.\n",
        "This standard interface allows us to write general reinforcement learning algorithms and test them on several environments without many adaptations.\n",
        "\n",
        "Gym's interface is straightforward.\n",
        "Its core object is an **environment**, usually created with the instruction\n",
        "```python\n",
        "gym.make(\"ENV_NAME\")\n",
        "```\n",
        "A gym environment has three key methods:\n",
        "* `reset()`: this method reset the environment and return an observation of a random initial state\n",
        "* `step(a)`: this method takes action `a` and returns three variables:\n",
        "    * `observation`: the observation of the next state\n",
        "    * `reward`: the reward obtained after transitioning from the previous state to the new one taking action `a`\n",
        "    * `done`: a boolean indicating if an episode is finished\n",
        "    * `info`: a variable used to pass any other kind of information\n",
        "* `render()` this method renders the current state of the environment"
      ]
    },
    {
      "cell_type": "markdown",
      "metadata": {
        "id": "1G0vIcH-aUch"
      },
      "source": [
        "## Frozen Lake\n",
        "\n",
        "[Frozen lake](https://gym.openai.com/envs/FrozenLake-v0/) is an elementary \"grid-world\" environment provided in OpenAi Gym.\n",
        "Starting from a non-changing initial position, you control an agent whose objective is to reach a goal located at the exact opposite of the map.\n",
        "Some of the tiles are walkable, some other are holes ,and walking on them leads to the end of the episode. Due to the slipperiness of the frozen lake, some randomness is added in the transitions meaning that the movement direction of the agent is uncertain and only partially depends on the chosen direction.\n",
        "\n",
        "Here is the official FrozenLake description provided by OpenAI:\n",
        "\n",
        "*Winter is here. You and your friends were tossing around a frisbee at the park when you made a wild throw that left the frisbee out in the middle of the lake. The water is mostly frozen, but there are a few holes where the ice has melted. If you step into one of those holes, you'll fall into the freezing water. At this time, there's an international frisbee shortage, so it's absolutely imperative that you navigate across the lake and retrieve the disc. However, the ice is slippery, so you won't always move in the direction you intend.*\n",
        "\n",
        "*The surface is described using a grid like the following:*\n",
        "```\n",
        "SFFF       (S: starting point, safe)\n",
        "FHFH       (F: frozen surface, safe)\n",
        "FFFH       (H: hole, fall to your doom)\n",
        "HFFG       (G: goal, where the frisbee is located)\n",
        "```\n",
        "*The episode ends when you reach the goal or fall in a hole. You receive a reward of 1 if you reach the goal, and zero otherwise.*\n",
        "\n",
        "Let's instantiate a FrozenLake environment:"
      ]
    },
    {
      "cell_type": "code",
      "execution_count": null,
      "metadata": {
        "colab": {
          "base_uri": "https://localhost:8080/"
        },
        "id": "QImpKFjbguQI",
        "outputId": "ffe3b2cb-67dd-4492-caca-c2cf9eac6e44"
      },
      "outputs": [],
      "source": [
        "pip install gymnasium"
      ]
    },
    {
      "cell_type": "code",
      "execution_count": null,
      "metadata": {
        "colab": {
          "base_uri": "https://localhost:8080/",
          "height": 423
        },
        "id": "h9hmsav8aUci",
        "outputId": "57738642-49ac-47ff-bad5-28a3106c3925"
      },
      "outputs": [],
      "source": [
        "import gymnasium as gym\n",
        "import matplotlib.pyplot as plt\n",
        "env = gym.make(\"FrozenLake8x8-v1\", render_mode=\"rgb_array\")\n",
        "env.reset()\n",
        "plt.imshow(env.render())\n",
        "plt.axis(\"off\")"
      ]
    },
    {
      "cell_type": "markdown",
      "metadata": {
        "id": "BXi4oS10aUcj"
      },
      "source": [
        "The environment provides informations about its Action and State Spaces"
      ]
    },
    {
      "cell_type": "code",
      "execution_count": null,
      "metadata": {
        "colab": {
          "base_uri": "https://localhost:8080/"
        },
        "id": "LDeeUazJaUcj",
        "outputId": "8d5517d7-c0de-4241-c961-510d6aae1fba"
      },
      "outputs": [],
      "source": [
        "print(f\"Action Space {env.action_space}\")\n",
        "print(f\"State Space {env.observation_space}\")"
      ]
    },
    {
      "cell_type": "markdown",
      "metadata": {
        "id": "LRJdG0YKaUcl"
      },
      "source": [
        "The environment is composed of 64 discrete states corresponding to the agent's position on the grid.\n",
        "The four possible actions are:"
      ]
    },
    {
      "cell_type": "code",
      "execution_count": null,
      "metadata": {
        "colab": {
          "base_uri": "https://localhost:8080/"
        },
        "id": "Dm8sMKZFaUcm",
        "outputId": "35de5971-a954-40d7-bc23-d26bfc1234fd"
      },
      "outputs": [],
      "source": [
        "action_map = {0:u'\\u2190', 1:u'\\u2193', 2:u'\\u2192', 3:u'\\u2191'}\n",
        "for k, v in action_map.items():\n",
        "    print(f\"action {k}: {v}\")"
      ]
    },
    {
      "cell_type": "markdown",
      "metadata": {
        "id": "eOsiPXrWaUco"
      },
      "source": [
        "Use the ```step``` and ```render``` methods to observe the effect of the actions on the environment"
      ]
    },
    {
      "cell_type": "code",
      "execution_count": null,
      "metadata": {
        "colab": {
          "base_uri": "https://localhost:8080/",
          "height": 423
        },
        "id": "4_uC2aWgaUcp",
        "outputId": "903027b3-7ed5-419a-aecd-55d984d7dbb4"
      },
      "outputs": [],
      "source": [
        "...\n",
        "..."
      ]
    },
    {
      "cell_type": "markdown",
      "metadata": {
        "id": "qPO7u9MwaUcq"
      },
      "source": [
        "This function will help you to visualize our agent's trajectories:"
      ]
    },
    {
      "cell_type": "code",
      "execution_count": null,
      "metadata": {
        "id": "V3MEiZjwaUcq"
      },
      "outputs": [],
      "source": [
        "import imageio\n",
        "from IPython.display import Image\n",
        "from tqdm.notebook import tqdm\n",
        "from IPython.display import clear_output\n",
        "import numpy as np\n",
        "\n",
        "def display_trajectory(frames):\n",
        "  imageio.mimwrite('./frozen_lake.gif',\n",
        "                [np.array(frame) for i, frame in enumerate(frames)],\n",
        "                fps=10)\n",
        "  return(Image(open('frozen_lake.gif','rb').read()))\n"
      ]
    },
    {
      "cell_type": "markdown",
      "metadata": {
        "id": "eXpUGX7faUcr"
      },
      "source": [
        "# Random agent"
      ]
    },
    {
      "cell_type": "markdown",
      "metadata": {
        "id": "N2HRVaiGaUcs"
      },
      "source": [
        "The following code shows you how to run an episode with an agent taking random actions."
      ]
    },
    {
      "cell_type": "code",
      "execution_count": null,
      "metadata": {
        "colab": {
          "base_uri": "https://localhost:8080/",
          "height": 529
        },
        "id": "-l7kiIHfaUcs",
        "outputId": "bca05710-fd79-4578-e7d4-125b4ac846f6"
      },
      "outputs": [],
      "source": [
        "frames = [] # for animation\n",
        "env.reset()\n",
        "while True:\n",
        "    # draw a random action from the action space\n",
        "    action = env.action_space.sample()\n",
        "    # the step method takes an action as input and returns 4 variables described in the OpenAI section\n",
        "    state, reward, done, terminated, info = env.step(action)\n",
        "    frames.append(env.render())\n",
        "    #if done is True then the episode is over\n",
        "    if done:\n",
        "        break\n",
        "\n",
        "display_trajectory(frames)"
      ]
    },
    {
      "cell_type": "markdown",
      "metadata": {
        "id": "haxyNHdmaUct"
      },
      "source": [
        "## Human policy"
      ]
    },
    {
      "cell_type": "code",
      "execution_count": null,
      "metadata": {
        "colab": {
          "base_uri": "https://localhost:8080/",
          "height": 423
        },
        "id": "lvorsHr0aUct",
        "outputId": "b7db37ad-f6fd-4759-db3e-80a8e5c6716c"
      },
      "outputs": [],
      "source": [
        "env.reset()\n",
        "plt.imshow(env.render())\n",
        "plt.axis(\"off\")"
      ]
    },
    {
      "cell_type": "markdown",
      "metadata": {
        "id": "yMx2tlsSaUcu"
      },
      "source": [
        "We just saw a random policy. Let's now check on your policy.    \n",
        "Using the possible actions, try to reach the goal by running multiple times the next cell.  \n",
        "Reminder: action 0: ←\n",
        "action 1: ↓\n",
        "action 2: →\n",
        "action 3: ↑"
      ]
    },
    {
      "cell_type": "code",
      "execution_count": null,
      "metadata": {
        "colab": {
          "base_uri": "https://localhost:8080/",
          "height": 423
        },
        "id": "rUMLMq2baUcv",
        "outputId": "90fb268b-7e97-4af4-86d9-66e4327e2744"
      },
      "outputs": [],
      "source": [
        "env.step(...)\n",
        "plt.imshow(env.render())\n",
        "plt.axis(\"off\")"
      ]
    },
    {
      "cell_type": "markdown",
      "metadata": {
        "id": "6kNKm_jCaUcw"
      },
      "source": [
        "There are a few probabilities that you achieved the desired goal.\n",
        "This is due to the stochasticity of the environment.\n",
        "This environment provides an entire description of its transition model:"
      ]
    },
    {
      "cell_type": "code",
      "execution_count": null,
      "metadata": {
        "colab": {
          "base_uri": "https://localhost:8080/"
        },
        "id": "1j0Mlhk9aUcw",
        "outputId": "335da6c2-9798-4fe6-a05c-2f26a1fae829"
      },
      "outputs": [],
      "source": [
        "state = 0\n",
        "env.env.P[state]"
      ]
    },
    {
      "cell_type": "markdown",
      "metadata": {
        "id": "5VtG8nPHaUcx"
      },
      "source": [
        "Here you can see the transitions probabilities for every possible action.\n",
        "For example, taking action 2 has:\n",
        "* 33% chances to lead to state 8\n",
        "* 33% chances to lead to state 1\n",
        "* 33% chances to lead to state 0\n",
        "\n",
        "Each line is composed as follow: (probability, next state, reward, end of episode)"
      ]
    },
    {
      "cell_type": "markdown",
      "metadata": {
        "id": "PdkPUyU3aUcx"
      },
      "source": [
        "# Policy iteration"
      ]
    },
    {
      "cell_type": "markdown",
      "metadata": {
        "id": "wK3Zbq6qaUcy"
      },
      "source": [
        "Let's now try to solve the FrozenLake problem using the value policy algorithm.\n",
        "![](https://github.com/DavidBert/N7-techno-IA/blob/master/code/reinforcement_learning/images/policy_iter.png?raw=1)"
      ]
    },
    {
      "cell_type": "markdown",
      "metadata": {
        "id": "n-kEjmUSaUcy"
      },
      "source": [
        "Fill the following code to implement the policy iteration algorithm:  \n",
        "(hint:  ```env.env.P[s][a]``` returns a list  \n",
        "$$[(p_1, s'_1, r_1, done)\\\\  \n",
        "...\\\\\n",
        "(p_n, s'_n, r_n, done)]$$\n",
        "Iterate on this list to compute $\\sum_{s',r}p(s',r|s,a)[r+\\gamma V(s')]$)"
      ]
    },
    {
      "cell_type": "code",
      "execution_count": null,
      "metadata": {
        "id": "JQW3EKmaaUcz"
      },
      "outputs": [],
      "source": [
        "def compute_sum(env, V, s, a, gamma):\n",
        "    # V is a list containing the estimated value for every state\n",
        "    # len(V) = nb_states\n",
        "    total = 0  # state value for state s\n",
        "    for p, s_prime, r, _ in env.env.P[s][a]:\n",
        "        ...\n",
        "    return total"
      ]
    },
    {
      "cell_type": "code",
      "execution_count": null,
      "metadata": {
        "id": "oPesnilNaUcz"
      },
      "outputs": [],
      "source": [
        "import numpy as np\n",
        "\n",
        "def policy_iteration(env, gamma, theta):\n",
        "    nb_states = env.observation_space.n\n",
        "    nb_actions = env.action_space.n\n",
        "    # 1. Initialization\n",
        "    V = np.zeros(nb_states)\n",
        "    pi = np.zeros(nb_states)\n",
        "\n",
        "    while True:\n",
        "\n",
        "        # 2. Policy Evaluation\n",
        "        while True:\n",
        "            ...\n",
        "        # 3. Policy Improvement\n",
        "        policy_stable = True\n",
        "        ...\n",
        "            ...\n",
        "        if policy_stable: break\n",
        "    return V, pi"
      ]
    },
    {
      "cell_type": "markdown",
      "metadata": {
        "id": "k-u2YCpqaUc0"
      },
      "source": [
        "Run your algorithm on FrozenLake (you may use $\\gamma=1$ and $\\theta=1e-8$)"
      ]
    },
    {
      "cell_type": "code",
      "execution_count": null,
      "metadata": {
        "id": "AQcap2IFaUc1"
      },
      "outputs": [],
      "source": [
        "V, pi = ..."
      ]
    },
    {
      "cell_type": "markdown",
      "metadata": {
        "id": "FEn5CwP2aUc1"
      },
      "source": [
        "Let's have a look at the computed values and policy"
      ]
    },
    {
      "cell_type": "code",
      "execution_count": null,
      "metadata": {
        "colab": {
          "base_uri": "https://localhost:8080/",
          "height": 574
        },
        "id": "uHaYF1HZaUc1",
        "outputId": "0f5f758c-eb55-45fb-bd61-1ba5e08a0020"
      },
      "outputs": [],
      "source": [
        "import seaborn as sns\n",
        "sns.color_palette(\"YlOrBr\", as_cmap=True)\n",
        "sns.heatmap(V.reshape([8, -1]), cmap=\"coolwarm\", annot=True)\n",
        "policy = np.array([action_map[x] for x in pi]).reshape([-1, 8])\n",
        "print((policy))"
      ]
    },
    {
      "cell_type": "markdown",
      "metadata": {
        "id": "rc_G5lTWaUc3"
      },
      "source": [
        "You should see that the policy on state 55(tile (6,7)) and 62(tile (6,6)) appears different from the one we would expect.\n",
        "Using ```env.env.P[s]``` to check the environment's transitions, can you explain this behavior and why state 55 has a low value?"
      ]
    },
    {
      "cell_type": "code",
      "execution_count": null,
      "metadata": {
        "colab": {
          "base_uri": "https://localhost:8080/",
          "height": 423
        },
        "id": "ax__2h8XaUc4",
        "outputId": "f43a3073-2c06-4415-8da3-0389affec8c3"
      },
      "outputs": [],
      "source": [
        "env.env.s = 62\n",
        "plt.imshow(env.render())\n",
        "plt.axis(\"off\")"
      ]
    },
    {
      "cell_type": "code",
      "execution_count": null,
      "metadata": {
        "colab": {
          "base_uri": "https://localhost:8080/"
        },
        "id": "hNLIz7uAaUc5",
        "outputId": "3d1fe6d7-8232-4122-ad2a-a2d641a90e2f"
      },
      "outputs": [],
      "source": [
        "..."
      ]
    },
    {
      "cell_type": "markdown",
      "metadata": {
        "id": "to-b0WM9aUc5"
      },
      "source": [
        "# Value Iteration:"
      ]
    },
    {
      "cell_type": "markdown",
      "metadata": {
        "id": "Umrh2Os-aUc5"
      },
      "source": [
        "Let's now try to solve the FrozenLake problem using the value iteration algorithm.\n",
        "![](https://github.com/DavidBert/N7-techno-IA/blob/master/code/reinforcement_learning/images/value_iteration.png?raw=1)"
      ]
    },
    {
      "cell_type": "markdown",
      "metadata": {
        "id": "HCEvnviXaUc6"
      },
      "source": [
        "Fill the following code to implement the value iteration algorithm:  "
      ]
    },
    {
      "cell_type": "code",
      "execution_count": null,
      "metadata": {
        "id": "vR6o00vXaUc7"
      },
      "outputs": [],
      "source": [
        "def value_iteration(env, gamma, theta):\n",
        "    nb_states = env.observation_space.n\n",
        "    nb_actions = env.action_space.n\n",
        "    V = np.zeros(nb_states)\n",
        "\n",
        "    while True:\n",
        "        delta = 0\n",
        "        ...\n",
        "    # Output a deterministic policy\n",
        "    pi = np.zeros(nb_states)\n",
        "    for s in range(nb_states):\n",
        "        pi[s] = ...\n",
        "\n",
        "    return V, pi"
      ]
    },
    {
      "cell_type": "markdown",
      "metadata": {
        "id": "G7sLM-hPaUc7"
      },
      "source": [
        "Run your algorithm on FrozenLake (you may use $\\gamma=1$ and $\\theta=1e-8$)"
      ]
    },
    {
      "cell_type": "code",
      "execution_count": null,
      "metadata": {
        "id": "7Hhq_KtkaUc8"
      },
      "outputs": [],
      "source": [
        "V, pi = ..."
      ]
    },
    {
      "cell_type": "markdown",
      "metadata": {
        "id": "GC503dkTaUc8"
      },
      "source": [
        "Let's have a look at the computed values and policy"
      ]
    },
    {
      "cell_type": "code",
      "execution_count": null,
      "metadata": {
        "colab": {
          "base_uri": "https://localhost:8080/",
          "height": 569
        },
        "id": "s4i1knn7aUc8",
        "outputId": "9ab9d3ee-9de9-4290-fdd9-161a8abc01b2"
      },
      "outputs": [],
      "source": [
        "sns.color_palette(\"YlOrBr\", as_cmap=True)\n",
        "sns.heatmap(V.reshape([8, -1]), cmap=\"coolwarm\", annot=True)\n",
        "policy = np.array([action_map[x] for x in pi]).reshape([-1, 8])\n",
        "print((policy))"
      ]
    },
    {
      "cell_type": "markdown",
      "metadata": {
        "id": "1W-u7n3aaUc8"
      },
      "source": [
        "In this practical session, we trained agents to solve the FrozenLake environment without ever interacting with it.\n",
        "The Policy iteration and Value iteration algorithms are model-based algorithms. They can only be computed if we know the transitions probabilities used in the environment. This may not always be the case.\n",
        "In the following practical session, you will train an RL agent by interacting with the environment using a model-free algorithm."
      ]
    },
    {
      "cell_type": "code",
      "execution_count": null,
      "metadata": {
        "id": "3volNq3PaUc9"
      },
      "outputs": [],
      "source": []
    }
  ],
  "metadata": {
    "colab": {
      "provenance": []
    },
    "kernelspec": {
      "display_name": "Python 3",
      "language": "python",
      "name": "python3"
    },
    "language_info": {
      "codemirror_mode": {
        "name": "ipython",
        "version": 3
      },
      "file_extension": ".py",
      "mimetype": "text/x-python",
      "name": "python",
      "nbconvert_exporter": "python",
      "pygments_lexer": "ipython3",
      "version": "3.6.12"
    }
  },
  "nbformat": 4,
  "nbformat_minor": 0
}

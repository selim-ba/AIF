{
 "cells": [
  {
   "cell_type": "markdown",
   "metadata": {},
   "source": [
    "# Testing the API\n",
    "\n",
    "We will now test the API we just created.  \n",
    "Here are some digits from the MNIST dataset that we will use to test the API."
   ]
  },
  {
   "cell_type": "code",
   "execution_count": 8,
   "metadata": {},
   "outputs": [
    {
     "data": {
      "image/png": "[encoded data removed]",
      "text/plain": [
       "<Figure size 2000x1000 with 10 Axes>"
      ]
     },
     "metadata": {},
     "output_type": "display_data"
    }
   ],
   "source": [
    "import matplotlib.pyplot as plt\n",
    "import torchvision.datasets as datasets\n",
    "\n",
    "# Load an example image from MNIST\n",
    "mnist = datasets.MNIST(root='../data', train=False, download=True)\n",
    "# a sublopt to show 10 images horizontally large size\n",
    "fig, ax = plt.subplots(1,10, figsize=(20,10))\n",
    "for i in range(10):\n",
    "    image, label = mnist[i]\n",
    "    ax[i].imshow(image, cmap='gray')\n",
    "    ax[i].set_title(f\"Label: {label}\")\n",
    "    ax[i].axis('off')"
   ]
  },
  {
   "cell_type": "markdown",
   "metadata": {},
   "source": [
    "We will use the `requests` library to send HTTP requests to the API.\n",
    "We need to specify the URL of the API endpoint and the HTTP method to use (POST in our case).  \n",
    "We also need to specify the data to send in the request body. This data will be sent as a JSON string. We can use the `json` parameter in the `requests` library to automatically convert a dictionary to a JSON string before sending the request.  \n",
    "Let's try calling the API with on the 10th first images we showed earlier."
   ]
  },
  {
   "cell_type": "code",
   "execution_count": 9,
   "metadata": {},
   "outputs": [
    {
     "name": "stdout",
     "output_type": "stream",
     "text": [
      "Predicted Label: 7 True Label: 7\n",
      "Predicted Label: 2 True Label: 2\n",
      "Predicted Label: 1 True Label: 1\n",
      "Predicted Label: 0 True Label: 0\n",
      "Predicted Label: 4 True Label: 4\n",
      "Predicted Label: 1 True Label: 1\n",
      "Predicted Label: 4 True Label: 4\n",
      "Predicted Label: 9 True Label: 9\n",
      "Predicted Label: 5 True Label: 5\n",
      "Predicted Label: 9 True Label: 9\n"
     ]
    }
   ],
   "source": [
    "import requests\n",
    "import io\n",
    "\n",
    "for i in range(10):\n",
    "    image, label = mnist[i]\n",
    "    # Convert image to bytes\n",
    "    img_binary = io.BytesIO()\n",
    "    image.save(img_binary, format=\"PNG\")\n",
    "    # Send request to the API\n",
    "    response = requests.post(\"http://127.0.0.1:5075/predict\", data=img_binary.getvalue())\n",
    "    print(\"Predicted Label:\", response.json()[\"prediction\"], \"True Label:\", label)"
   ]
  },
  {
   "cell_type": "markdown",
   "metadata": {},
   "source": [
    "We requested the api one image at a time. As you may already know, neural networks are much more efficient when they are fed with a batch of images.  \n",
    "Modify the `mnist_api.py` by adding a new route `/batch_predict` that will accept a batch of images and return a batch of predictions and test it with the following code."
   ]
  },
  {
   "cell_type": "code",
   "execution_count": 10,
   "metadata": {},
   "outputs": [
    {
     "name": "stdout",
     "output_type": "stream",
     "text": [
      "Image 1 - Predicted Label: 7 | True Label: 7\n",
      "Image 2 - Predicted Label: 2 | True Label: 2\n",
      "Image 3 - Predicted Label: 1 | True Label: 1\n",
      "Image 4 - Predicted Label: 0 | True Label: 0\n",
      "Image 5 - Predicted Label: 4 | True Label: 4\n",
      "Image 6 - Predicted Label: 1 | True Label: 1\n",
      "Image 7 - Predicted Label: 4 | True Label: 4\n",
      "Image 8 - Predicted Label: 9 | True Label: 9\n",
      "Image 9 - Predicted Label: 5 | True Label: 5\n",
      "Image 10 - Predicted Label: 9 | True Label: 9\n"
     ]
    }
   ],
   "source": [
    "images = []\n",
    "labels = []\n",
    "\n",
    "for i in range(10):\n",
    "    image, label = mnist[i]\n",
    "    labels.append(label)\n",
    "\n",
    "    # Convert image to bytes\n",
    "    img_binary = io.BytesIO()\n",
    "    image.save(img_binary, format=\"PNG\")\n",
    "    images.append(('images[]', (f\"image_{i}.png\", img_binary.getvalue(), 'image/png')))\n",
    "\n",
    "# Send request to the API for batch prediction\n",
    "response = requests.post(\"http://127.0.0.1:5075/batch_predict\", files=images)\n",
    "predictions = response.json()[\"predictions\"]\n",
    "\n",
    "for i, (pred, true_label) in enumerate(zip(predictions, labels)):\n",
    "    print(f\"Image {i+1} - Predicted Label:\", pred, \"| True Label:\", true_label)\n"
   ]
  },
  {
   "cell_type": "code",
   "execution_count": null,
   "metadata": {},
   "outputs": [],
   "source": []
  }
 ],
 "metadata": {
  "kernelspec": {
   "display_name": "Python 3.12 (torch)",
   "language": "python",
   "name": "aiftorch"
  },
  "language_info": {
   "codemirror_mode": {
    "name": "ipython",
    "version": 3
   },
   "file_extension": ".py",
   "mimetype": "text/x-python",
   "name": "python",
   "nbconvert_exporter": "python",
   "pygments_lexer": "ipython3",
   "version": "3.12.12"
  },
  "orig_nbformat": 4
 },
 "nbformat": 4,
 "nbformat_minor": 2
}
